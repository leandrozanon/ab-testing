{
 "cells": [
  {
   "cell_type": "markdown",
   "metadata": {},
   "source": [
    "# Análise de A/B Testing\n",
    "\n",
    "Neste notebook, iremos analisar os resultados da estratégia de A/B testing aplicada aos modelos de recomendação de filmes. Vamos comparar o desempenho dos modelos A e B utilizando o conjunto de dados de filmes."
   ]
  },
  {
   "cell_type": "code",
   "execution_count": null,
   "metadata": {},
   "outputs": [],
   "source": [
    "import pandas as pd\n",
    "import pickle\n",
    "\n",
    "# Carregar o conjunto de dados\n",
    "data = pd.read_csv('../data/movies_dataset.csv')\n",
    "\n",
    "# Carregar os modelos\n",
    "with open('../models/model_a.pkl', 'rb') as f:\n",
    "    model_a = pickle.load(f)\n",
    "\n",
    "with open('../models/model_b.pkl', 'rb') as f:\n",
    "    model_b = pickle.load(f)\n",
    "\n",
    "# Exibir as primeiras linhas do conjunto de dados\n",
    "data.head()"
   ]
  },
  {
   "cell_type": "markdown",
   "metadata": {},
   "source": [
    "## Avaliação dos Modelos\n",
    "\n",
    "Vamos avaliar o desempenho dos modelos A e B utilizando métricas apropriadas."
   ]
  },
  {
   "cell_type": "code",
   "execution_count": null,
   "metadata": {},
   "outputs": [],
   "source": [
    "# Importar funções de avaliação\n",
    "from src.model_evaluation import evaluate_model\n",
    "\n",
    "# Avaliar o modelo A\n",
    "results_a = evaluate_model(model_a, data)\n",
    "\n",
    "# Avaliar o modelo B\n",
    "results_b = evaluate_model(model_b, data)\n",
    "\n",
    "# Comparar os resultados\n",
    "comparison = pd.DataFrame({'Modelo A': results_a, 'Modelo B': results_b})\n",
    "comparison"
   ]
  },
  {
   "cell_type": "markdown",
   "metadata": {},
   "source": [
    "## Conclusão\n",
    "\n",
    "Após a análise, podemos concluir qual modelo apresentou melhor desempenho e discutir as implicações dos resultados."
   ]
  }
 ],
 "metadata": {
  "kernelspec": {
   "display_name": "Python 3",
   "language": "python",
   "name": "python3"
  },
  "language_info": {
   "codemirror_mode": {
    "name": "ipython",
    "version": 3
   },
   "file_extension": ".py",
   "mimetype": "text/x-python",
   "name": "python",
   "nbconvert_exporter": "python",
   "pygments_lexer": "ipython3",
   "version": "3.8.5"
  }
 },
 "nbformat": 4,
 "nbformat_minor": 4
}